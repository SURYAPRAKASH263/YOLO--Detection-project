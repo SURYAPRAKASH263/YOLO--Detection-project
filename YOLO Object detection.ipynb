{
  "nbformat": 4,
  "nbformat_minor": 0,
  "metadata": {
    "colab": {
      "provenance": [],
      "gpuType": "T4"
    },
    "kernelspec": {
      "name": "python3",
      "display_name": "Python 3"
    },
    "language_info": {
      "name": "python"
    },
    "accelerator": "GPU"
  },
  "cells": [
    {
      "cell_type": "markdown",
      "source": [
        "#Modes:\n",
        "\n",
        "train, val, predict\n",
        "\n",
        "#Tasks:\n",
        "\n",
        "detect, segment, classify\n",
        "\n",
        "#Data:\n",
        "\n",
        "Format can be differ for task type, Supports data.yaml, data_folder, data_name"
      ],
      "metadata": {
        "id": "P7JZ3IeCX36S"
      }
    },
    {
      "cell_type": "markdown",
      "source": [
        "# Installation"
      ],
      "metadata": {
        "id": "J-UNok5za4EB"
      }
    },
    {
      "cell_type": "code",
      "source": [
        "!pip install ultralytics --quiet"
      ],
      "metadata": {
        "colab": {
          "base_uri": "https://localhost:8080/"
        },
        "id": "HrH9uyhXa6lC",
        "outputId": "26abe907-c1eb-42ec-e7e0-01176b944747"
      },
      "execution_count": 1,
      "outputs": [
        {
          "output_type": "stream",
          "name": "stdout",
          "text": [
            "\u001b[?25l   \u001b[90m━━━━━━━━━━━━━━━━━━━━━━━━━━━━━━━━━━━━━━━━\u001b[0m \u001b[32m0.0/905.3 kB\u001b[0m \u001b[31m?\u001b[0m eta \u001b[36m-:--:--\u001b[0m\r\u001b[2K   \u001b[91m━━━━━━━━━━━━━━━━━━━━━\u001b[0m\u001b[91m╸\u001b[0m\u001b[90m━━━━━━━━━━━━━━━━━━\u001b[0m \u001b[32m491.5/905.3 kB\u001b[0m \u001b[31m14.5 MB/s\u001b[0m eta \u001b[36m0:00:01\u001b[0m\r\u001b[2K   \u001b[90m━━━━━━━━━━━━━━━━━━━━━━━━━━━━━━━━━━━━━━━━\u001b[0m \u001b[32m905.3/905.3 kB\u001b[0m \u001b[31m15.5 MB/s\u001b[0m eta \u001b[36m0:00:00\u001b[0m\n",
            "\u001b[?25h"
          ]
        }
      ]
    },
    {
      "cell_type": "markdown",
      "source": [
        "## CMD"
      ],
      "metadata": {
        "id": "uVvHxTpnayvw"
      }
    },
    {
      "cell_type": "code",
      "source": [
        "!pwd"
      ],
      "metadata": {
        "colab": {
          "base_uri": "https://localhost:8080/"
        },
        "id": "1x1ROswscR6o",
        "outputId": "2ae2ff2d-905a-4240-80cc-94430ac7d2c8"
      },
      "execution_count": 2,
      "outputs": [
        {
          "output_type": "stream",
          "name": "stdout",
          "text": [
            "/content\n"
          ]
        }
      ]
    },
    {
      "cell_type": "markdown",
      "source": [
        "# 1. Detection:"
      ],
      "metadata": {
        "id": "oDJiCWsuYksB"
      }
    },
    {
      "cell_type": "code",
      "execution_count": 11,
      "metadata": {
        "colab": {
          "base_uri": "https://localhost:8080/"
        },
        "id": "_M7dGopyXtph",
        "outputId": "ea8b238d-71db-4326-b385-ee08f372ff0f"
      },
      "outputs": [
        {
          "output_type": "stream",
          "name": "stdout",
          "text": [
            "Ultralytics 8.3.58 🚀 Python-3.10.12 torch-2.5.1+cu121 CUDA:0 (Tesla T4, 15102MiB)\n",
            "YOLO11n summary (fused): 238 layers, 2,616,248 parameters, 0 gradients, 6.5 GFLOPs\n",
            "\n",
            "video 1/1 (frame 1/221) /content/42696-432087106_small.mp4: 384x640 11 persons, 3 cars, 1 handbag, 44.6ms\n",
            "video 1/1 (frame 2/221) /content/42696-432087106_small.mp4: 384x640 11 persons, 2 cars, 1 handbag, 9.0ms\n",
            "video 1/1 (frame 3/221) /content/42696-432087106_small.mp4: 384x640 9 persons, 3 cars, 1 handbag, 10.0ms\n",
            "video 1/1 (frame 4/221) /content/42696-432087106_small.mp4: 384x640 9 persons, 3 cars, 2 handbags, 8.4ms\n",
            "video 1/1 (frame 5/221) /content/42696-432087106_small.mp4: 384x640 8 persons, 3 cars, 2 handbags, 8.7ms\n",
            "video 1/1 (frame 6/221) /content/42696-432087106_small.mp4: 384x640 9 persons, 3 cars, 8.6ms\n",
            "video 1/1 (frame 7/221) /content/42696-432087106_small.mp4: 384x640 8 persons, 4 cars, 1 handbag, 8.7ms\n",
            "video 1/1 (frame 8/221) /content/42696-432087106_small.mp4: 384x640 8 persons, 3 cars, 8.3ms\n",
            "video 1/1 (frame 9/221) /content/42696-432087106_small.mp4: 384x640 8 persons, 4 cars, 9.1ms\n",
            "video 1/1 (frame 10/221) /content/42696-432087106_small.mp4: 384x640 9 persons, 4 cars, 8.6ms\n",
            "video 1/1 (frame 11/221) /content/42696-432087106_small.mp4: 384x640 9 persons, 3 cars, 8.2ms\n",
            "video 1/1 (frame 12/221) /content/42696-432087106_small.mp4: 384x640 8 persons, 3 cars, 1 handbag, 8.3ms\n",
            "video 1/1 (frame 13/221) /content/42696-432087106_small.mp4: 384x640 7 persons, 3 cars, 1 handbag, 8.6ms\n",
            "video 1/1 (frame 14/221) /content/42696-432087106_small.mp4: 384x640 10 persons, 3 cars, 8.5ms\n",
            "video 1/1 (frame 15/221) /content/42696-432087106_small.mp4: 384x640 9 persons, 4 cars, 8.1ms\n",
            "video 1/1 (frame 16/221) /content/42696-432087106_small.mp4: 384x640 7 persons, 1 bicycle, 3 cars, 1 handbag, 9.1ms\n",
            "video 1/1 (frame 17/221) /content/42696-432087106_small.mp4: 384x640 7 persons, 1 bicycle, 2 cars, 8.6ms\n",
            "video 1/1 (frame 18/221) /content/42696-432087106_small.mp4: 384x640 8 persons, 2 cars, 8.0ms\n",
            "video 1/1 (frame 19/221) /content/42696-432087106_small.mp4: 384x640 8 persons, 2 cars, 1 motorcycle, 10.8ms\n",
            "video 1/1 (frame 20/221) /content/42696-432087106_small.mp4: 384x640 8 persons, 1 car, 1 motorcycle, 8.5ms\n",
            "video 1/1 (frame 21/221) /content/42696-432087106_small.mp4: 384x640 10 persons, 1 car, 8.5ms\n",
            "video 1/1 (frame 22/221) /content/42696-432087106_small.mp4: 384x640 10 persons, 1 car, 1 motorcycle, 8.5ms\n",
            "video 1/1 (frame 23/221) /content/42696-432087106_small.mp4: 384x640 10 persons, 1 car, 7.9ms\n",
            "video 1/1 (frame 24/221) /content/42696-432087106_small.mp4: 384x640 12 persons, 1 car, 9.2ms\n",
            "video 1/1 (frame 25/221) /content/42696-432087106_small.mp4: 384x640 12 persons, 1 car, 1 motorcycle, 8.7ms\n",
            "video 1/1 (frame 26/221) /content/42696-432087106_small.mp4: 384x640 11 persons, 2 cars, 8.1ms\n",
            "video 1/1 (frame 27/221) /content/42696-432087106_small.mp4: 384x640 10 persons, 2 cars, 11.1ms\n",
            "video 1/1 (frame 28/221) /content/42696-432087106_small.mp4: 384x640 9 persons, 1 car, 8.0ms\n",
            "video 1/1 (frame 29/221) /content/42696-432087106_small.mp4: 384x640 9 persons, 2 cars, 8.7ms\n",
            "video 1/1 (frame 30/221) /content/42696-432087106_small.mp4: 384x640 8 persons, 8.3ms\n",
            "video 1/1 (frame 31/221) /content/42696-432087106_small.mp4: 384x640 9 persons, 1 car, 8.1ms\n",
            "video 1/1 (frame 32/221) /content/42696-432087106_small.mp4: 384x640 8 persons, 2 cars, 10.8ms\n",
            "video 1/1 (frame 33/221) /content/42696-432087106_small.mp4: 384x640 9 persons, 2 cars, 8.7ms\n",
            "video 1/1 (frame 34/221) /content/42696-432087106_small.mp4: 384x640 10 persons, 3 cars, 8.3ms\n",
            "video 1/1 (frame 35/221) /content/42696-432087106_small.mp4: 384x640 11 persons, 4 cars, 1 handbag, 8.1ms\n",
            "video 1/1 (frame 36/221) /content/42696-432087106_small.mp4: 384x640 10 persons, 3 cars, 8.8ms\n",
            "video 1/1 (frame 37/221) /content/42696-432087106_small.mp4: 384x640 11 persons, 3 cars, 8.8ms\n",
            "video 1/1 (frame 38/221) /content/42696-432087106_small.mp4: 384x640 10 persons, 4 cars, 8.3ms\n",
            "video 1/1 (frame 39/221) /content/42696-432087106_small.mp4: 384x640 10 persons, 2 cars, 8.1ms\n",
            "video 1/1 (frame 40/221) /content/42696-432087106_small.mp4: 384x640 12 persons, 6 cars, 8.1ms\n",
            "video 1/1 (frame 41/221) /content/42696-432087106_small.mp4: 384x640 12 persons, 3 cars, 8.6ms\n",
            "video 1/1 (frame 42/221) /content/42696-432087106_small.mp4: 384x640 12 persons, 3 cars, 12.6ms\n",
            "video 1/1 (frame 43/221) /content/42696-432087106_small.mp4: 384x640 12 persons, 4 cars, 8.3ms\n",
            "video 1/1 (frame 44/221) /content/42696-432087106_small.mp4: 384x640 11 persons, 2 cars, 11.4ms\n",
            "video 1/1 (frame 45/221) /content/42696-432087106_small.mp4: 384x640 12 persons, 4 cars, 9.3ms\n",
            "video 1/1 (frame 46/221) /content/42696-432087106_small.mp4: 384x640 14 persons, 3 cars, 8.5ms\n",
            "video 1/1 (frame 47/221) /content/42696-432087106_small.mp4: 384x640 12 persons, 2 cars, 8.6ms\n",
            "video 1/1 (frame 48/221) /content/42696-432087106_small.mp4: 384x640 12 persons, 2 cars, 1 bird, 8.9ms\n",
            "video 1/1 (frame 49/221) /content/42696-432087106_small.mp4: 384x640 11 persons, 3 cars, 9.0ms\n",
            "video 1/1 (frame 50/221) /content/42696-432087106_small.mp4: 384x640 11 persons, 2 cars, 8.5ms\n",
            "video 1/1 (frame 51/221) /content/42696-432087106_small.mp4: 384x640 12 persons, 1 bicycle, 2 cars, 8.3ms\n",
            "video 1/1 (frame 52/221) /content/42696-432087106_small.mp4: 384x640 11 persons, 1 bicycle, 1 car, 8.6ms\n",
            "video 1/1 (frame 53/221) /content/42696-432087106_small.mp4: 384x640 11 persons, 9.2ms\n",
            "video 1/1 (frame 54/221) /content/42696-432087106_small.mp4: 384x640 11 persons, 11.5ms\n",
            "video 1/1 (frame 55/221) /content/42696-432087106_small.mp4: 384x640 11 persons, 8.2ms\n",
            "video 1/1 (frame 56/221) /content/42696-432087106_small.mp4: 384x640 11 persons, 1 bicycle, 9.4ms\n",
            "video 1/1 (frame 57/221) /content/42696-432087106_small.mp4: 384x640 12 persons, 1 bicycle, 9.4ms\n",
            "video 1/1 (frame 58/221) /content/42696-432087106_small.mp4: 384x640 12 persons, 1 bicycle, 8.5ms\n",
            "video 1/1 (frame 59/221) /content/42696-432087106_small.mp4: 384x640 13 persons, 8.0ms\n",
            "video 1/1 (frame 60/221) /content/42696-432087106_small.mp4: 384x640 13 persons, 8.1ms\n",
            "video 1/1 (frame 61/221) /content/42696-432087106_small.mp4: 384x640 12 persons, 1 bicycle, 1 car, 9.2ms\n",
            "video 1/1 (frame 62/221) /content/42696-432087106_small.mp4: 384x640 13 persons, 1 bicycle, 1 car, 8.6ms\n",
            "video 1/1 (frame 63/221) /content/42696-432087106_small.mp4: 384x640 11 persons, 1 bicycle, 8.5ms\n",
            "video 1/1 (frame 64/221) /content/42696-432087106_small.mp4: 384x640 10 persons, 1 bicycle, 2 cars, 8.2ms\n",
            "video 1/1 (frame 65/221) /content/42696-432087106_small.mp4: 384x640 10 persons, 1 bicycle, 5 cars, 10.1ms\n",
            "video 1/1 (frame 66/221) /content/42696-432087106_small.mp4: 384x640 10 persons, 2 cars, 8.5ms\n",
            "video 1/1 (frame 67/221) /content/42696-432087106_small.mp4: 384x640 10 persons, 1 car, 8.1ms\n",
            "video 1/1 (frame 68/221) /content/42696-432087106_small.mp4: 384x640 10 persons, 2 cars, 9.7ms\n",
            "video 1/1 (frame 69/221) /content/42696-432087106_small.mp4: 384x640 10 persons, 9.0ms\n",
            "video 1/1 (frame 70/221) /content/42696-432087106_small.mp4: 384x640 10 persons, 8.7ms\n",
            "video 1/1 (frame 71/221) /content/42696-432087106_small.mp4: 384x640 10 persons, 8.2ms\n",
            "video 1/1 (frame 72/221) /content/42696-432087106_small.mp4: 384x640 11 persons, 8.1ms\n",
            "video 1/1 (frame 73/221) /content/42696-432087106_small.mp4: 384x640 11 persons, 8.4ms\n",
            "video 1/1 (frame 74/221) /content/42696-432087106_small.mp4: 384x640 10 persons, 11.1ms\n",
            "video 1/1 (frame 75/221) /content/42696-432087106_small.mp4: 384x640 10 persons, 8.4ms\n",
            "video 1/1 (frame 76/221) /content/42696-432087106_small.mp4: 384x640 10 persons, 8.8ms\n",
            "video 1/1 (frame 77/221) /content/42696-432087106_small.mp4: 384x640 10 persons, 8.9ms\n",
            "video 1/1 (frame 78/221) /content/42696-432087106_small.mp4: 384x640 11 persons, 8.4ms\n",
            "video 1/1 (frame 79/221) /content/42696-432087106_small.mp4: 384x640 12 persons, 8.1ms\n",
            "video 1/1 (frame 80/221) /content/42696-432087106_small.mp4: 384x640 12 persons, 8.0ms\n",
            "video 1/1 (frame 81/221) /content/42696-432087106_small.mp4: 384x640 12 persons, 1 chair, 11.3ms\n",
            "video 1/1 (frame 82/221) /content/42696-432087106_small.mp4: 384x640 12 persons, 8.6ms\n",
            "video 1/1 (frame 83/221) /content/42696-432087106_small.mp4: 384x640 13 persons, 8.1ms\n",
            "video 1/1 (frame 84/221) /content/42696-432087106_small.mp4: 384x640 11 persons, 14.9ms\n",
            "video 1/1 (frame 85/221) /content/42696-432087106_small.mp4: 384x640 12 persons, 8.8ms\n",
            "video 1/1 (frame 86/221) /content/42696-432087106_small.mp4: 384x640 11 persons, 9.2ms\n",
            "video 1/1 (frame 87/221) /content/42696-432087106_small.mp4: 384x640 11 persons, 8.1ms\n",
            "video 1/1 (frame 88/221) /content/42696-432087106_small.mp4: 384x640 11 persons, 8.2ms\n",
            "video 1/1 (frame 89/221) /content/42696-432087106_small.mp4: 384x640 11 persons, 9.5ms\n",
            "video 1/1 (frame 90/221) /content/42696-432087106_small.mp4: 384x640 11 persons, 8.0ms\n",
            "video 1/1 (frame 91/221) /content/42696-432087106_small.mp4: 384x640 12 persons, 1 car, 8.2ms\n",
            "video 1/1 (frame 92/221) /content/42696-432087106_small.mp4: 384x640 12 persons, 16.5ms\n",
            "video 1/1 (frame 93/221) /content/42696-432087106_small.mp4: 384x640 11 persons, 14.3ms\n",
            "video 1/1 (frame 94/221) /content/42696-432087106_small.mp4: 384x640 13 persons, 3 cars, 14.8ms\n",
            "video 1/1 (frame 95/221) /content/42696-432087106_small.mp4: 384x640 11 persons, 4 cars, 15.4ms\n",
            "video 1/1 (frame 96/221) /content/42696-432087106_small.mp4: 384x640 10 persons, 2 cars, 11.5ms\n",
            "video 1/1 (frame 97/221) /content/42696-432087106_small.mp4: 384x640 9 persons, 2 cars, 13.2ms\n",
            "video 1/1 (frame 98/221) /content/42696-432087106_small.mp4: 384x640 11 persons, 2 cars, 16.2ms\n",
            "video 1/1 (frame 99/221) /content/42696-432087106_small.mp4: 384x640 9 persons, 2 cars, 10.9ms\n",
            "video 1/1 (frame 100/221) /content/42696-432087106_small.mp4: 384x640 12 persons, 1 car, 11.1ms\n",
            "video 1/1 (frame 101/221) /content/42696-432087106_small.mp4: 384x640 12 persons, 1 car, 19.2ms\n",
            "video 1/1 (frame 102/221) /content/42696-432087106_small.mp4: 384x640 12 persons, 1 car, 10.7ms\n",
            "video 1/1 (frame 103/221) /content/42696-432087106_small.mp4: 384x640 12 persons, 1 car, 10.7ms\n",
            "video 1/1 (frame 104/221) /content/42696-432087106_small.mp4: 384x640 9 persons, 1 car, 11.0ms\n",
            "video 1/1 (frame 105/221) /content/42696-432087106_small.mp4: 384x640 9 persons, 1 car, 12.1ms\n",
            "video 1/1 (frame 106/221) /content/42696-432087106_small.mp4: 384x640 9 persons, 1 car, 11.0ms\n",
            "video 1/1 (frame 107/221) /content/42696-432087106_small.mp4: 384x640 9 persons, 1 car, 10.8ms\n",
            "video 1/1 (frame 108/221) /content/42696-432087106_small.mp4: 384x640 9 persons, 2 cars, 10.9ms\n",
            "video 1/1 (frame 109/221) /content/42696-432087106_small.mp4: 384x640 9 persons, 1 car, 12.2ms\n",
            "video 1/1 (frame 110/221) /content/42696-432087106_small.mp4: 384x640 10 persons, 1 car, 11.7ms\n",
            "video 1/1 (frame 111/221) /content/42696-432087106_small.mp4: 384x640 9 persons, 2 cars, 10.8ms\n",
            "video 1/1 (frame 112/221) /content/42696-432087106_small.mp4: 384x640 10 persons, 2 cars, 10.8ms\n",
            "video 1/1 (frame 113/221) /content/42696-432087106_small.mp4: 384x640 11 persons, 3 cars, 10.9ms\n",
            "video 1/1 (frame 114/221) /content/42696-432087106_small.mp4: 384x640 10 persons, 3 cars, 10.8ms\n",
            "video 1/1 (frame 115/221) /content/42696-432087106_small.mp4: 384x640 9 persons, 3 cars, 15.6ms\n",
            "video 1/1 (frame 116/221) /content/42696-432087106_small.mp4: 384x640 10 persons, 1 car, 14.5ms\n",
            "video 1/1 (frame 117/221) /content/42696-432087106_small.mp4: 384x640 10 persons, 2 cars, 13.4ms\n",
            "video 1/1 (frame 118/221) /content/42696-432087106_small.mp4: 384x640 9 persons, 2 cars, 11.4ms\n",
            "video 1/1 (frame 119/221) /content/42696-432087106_small.mp4: 384x640 9 persons, 1 car, 10.5ms\n",
            "video 1/1 (frame 120/221) /content/42696-432087106_small.mp4: 384x640 9 persons, 1 car, 10.2ms\n",
            "video 1/1 (frame 121/221) /content/42696-432087106_small.mp4: 384x640 9 persons, 1 car, 10.7ms\n",
            "video 1/1 (frame 122/221) /content/42696-432087106_small.mp4: 384x640 9 persons, 1 car, 11.3ms\n",
            "video 1/1 (frame 123/221) /content/42696-432087106_small.mp4: 384x640 10 persons, 1 car, 10.4ms\n",
            "video 1/1 (frame 124/221) /content/42696-432087106_small.mp4: 384x640 9 persons, 1 car, 11.1ms\n",
            "video 1/1 (frame 125/221) /content/42696-432087106_small.mp4: 384x640 10 persons, 1 car, 10.2ms\n",
            "video 1/1 (frame 126/221) /content/42696-432087106_small.mp4: 384x640 10 persons, 1 car, 10.4ms\n",
            "video 1/1 (frame 127/221) /content/42696-432087106_small.mp4: 384x640 10 persons, 1 car, 11.9ms\n",
            "video 1/1 (frame 128/221) /content/42696-432087106_small.mp4: 384x640 10 persons, 1 car, 12.7ms\n",
            "video 1/1 (frame 129/221) /content/42696-432087106_small.mp4: 384x640 10 persons, 1 car, 18.1ms\n",
            "video 1/1 (frame 130/221) /content/42696-432087106_small.mp4: 384x640 10 persons, 1 car, 1 handbag, 12.7ms\n",
            "video 1/1 (frame 131/221) /content/42696-432087106_small.mp4: 384x640 10 persons, 1 car, 16.3ms\n",
            "video 1/1 (frame 132/221) /content/42696-432087106_small.mp4: 384x640 10 persons, 1 car, 14.6ms\n",
            "video 1/1 (frame 133/221) /content/42696-432087106_small.mp4: 384x640 9 persons, 1 car, 15.8ms\n",
            "video 1/1 (frame 134/221) /content/42696-432087106_small.mp4: 384x640 10 persons, 2 cars, 14.0ms\n",
            "video 1/1 (frame 135/221) /content/42696-432087106_small.mp4: 384x640 10 persons, 2 cars, 12.3ms\n",
            "video 1/1 (frame 136/221) /content/42696-432087106_small.mp4: 384x640 9 persons, 2 cars, 12.3ms\n",
            "video 1/1 (frame 137/221) /content/42696-432087106_small.mp4: 384x640 10 persons, 10.9ms\n",
            "video 1/1 (frame 138/221) /content/42696-432087106_small.mp4: 384x640 9 persons, 11.2ms\n",
            "video 1/1 (frame 139/221) /content/42696-432087106_small.mp4: 384x640 9 persons, 10.3ms\n",
            "video 1/1 (frame 140/221) /content/42696-432087106_small.mp4: 384x640 10 persons, 14.8ms\n",
            "video 1/1 (frame 141/221) /content/42696-432087106_small.mp4: 384x640 10 persons, 13.1ms\n",
            "video 1/1 (frame 142/221) /content/42696-432087106_small.mp4: 384x640 10 persons, 15.7ms\n",
            "video 1/1 (frame 143/221) /content/42696-432087106_small.mp4: 384x640 10 persons, 1 car, 16.1ms\n",
            "video 1/1 (frame 144/221) /content/42696-432087106_small.mp4: 384x640 8 persons, 1 car, 12.7ms\n",
            "video 1/1 (frame 145/221) /content/42696-432087106_small.mp4: 384x640 9 persons, 2 cars, 13.0ms\n",
            "video 1/1 (frame 146/221) /content/42696-432087106_small.mp4: 384x640 9 persons, 2 cars, 15.0ms\n",
            "video 1/1 (frame 147/221) /content/42696-432087106_small.mp4: 384x640 9 persons, 3 cars, 15.2ms\n",
            "video 1/1 (frame 148/221) /content/42696-432087106_small.mp4: 384x640 9 persons, 2 cars, 14.1ms\n",
            "video 1/1 (frame 149/221) /content/42696-432087106_small.mp4: 384x640 9 persons, 2 cars, 13.0ms\n",
            "video 1/1 (frame 150/221) /content/42696-432087106_small.mp4: 384x640 10 persons, 2 cars, 16.4ms\n",
            "video 1/1 (frame 151/221) /content/42696-432087106_small.mp4: 384x640 9 persons, 2 cars, 11.8ms\n",
            "video 1/1 (frame 152/221) /content/42696-432087106_small.mp4: 384x640 9 persons, 2 cars, 12.6ms\n",
            "video 1/1 (frame 153/221) /content/42696-432087106_small.mp4: 384x640 9 persons, 3 cars, 2 handbags, 13.0ms\n",
            "video 1/1 (frame 154/221) /content/42696-432087106_small.mp4: 384x640 9 persons, 2 cars, 2 handbags, 12.7ms\n",
            "video 1/1 (frame 155/221) /content/42696-432087106_small.mp4: 384x640 9 persons, 2 cars, 1 handbag, 14.8ms\n",
            "video 1/1 (frame 156/221) /content/42696-432087106_small.mp4: 384x640 9 persons, 2 cars, 18.4ms\n",
            "video 1/1 (frame 157/221) /content/42696-432087106_small.mp4: 384x640 11 persons, 3 cars, 1 handbag, 14.2ms\n",
            "video 1/1 (frame 158/221) /content/42696-432087106_small.mp4: 384x640 11 persons, 3 cars, 1 handbag, 15.3ms\n",
            "video 1/1 (frame 159/221) /content/42696-432087106_small.mp4: 384x640 10 persons, 3 cars, 14.1ms\n",
            "video 1/1 (frame 160/221) /content/42696-432087106_small.mp4: 384x640 11 persons, 2 cars, 12.0ms\n",
            "video 1/1 (frame 161/221) /content/42696-432087106_small.mp4: 384x640 11 persons, 2 cars, 11.6ms\n",
            "video 1/1 (frame 162/221) /content/42696-432087106_small.mp4: 384x640 11 persons, 1 car, 8.3ms\n",
            "video 1/1 (frame 163/221) /content/42696-432087106_small.mp4: 384x640 10 persons, 3 cars, 8.1ms\n",
            "video 1/1 (frame 164/221) /content/42696-432087106_small.mp4: 384x640 11 persons, 2 cars, 8.0ms\n",
            "video 1/1 (frame 165/221) /content/42696-432087106_small.mp4: 384x640 11 persons, 3 cars, 1 handbag, 12.1ms\n",
            "video 1/1 (frame 166/221) /content/42696-432087106_small.mp4: 384x640 11 persons, 2 cars, 1 handbag, 8.2ms\n",
            "video 1/1 (frame 167/221) /content/42696-432087106_small.mp4: 384x640 10 persons, 3 cars, 8.0ms\n",
            "video 1/1 (frame 168/221) /content/42696-432087106_small.mp4: 384x640 10 persons, 3 cars, 7.9ms\n",
            "video 1/1 (frame 169/221) /content/42696-432087106_small.mp4: 384x640 10 persons, 1 car, 9.4ms\n",
            "video 1/1 (frame 170/221) /content/42696-432087106_small.mp4: 384x640 11 persons, 1 car, 8.9ms\n",
            "video 1/1 (frame 171/221) /content/42696-432087106_small.mp4: 384x640 10 persons, 1 car, 8.7ms\n",
            "video 1/1 (frame 172/221) /content/42696-432087106_small.mp4: 384x640 9 persons, 2 cars, 8.1ms\n",
            "video 1/1 (frame 173/221) /content/42696-432087106_small.mp4: 384x640 10 persons, 1 car, 9.2ms\n",
            "video 1/1 (frame 174/221) /content/42696-432087106_small.mp4: 384x640 10 persons, 1 car, 8.6ms\n",
            "video 1/1 (frame 175/221) /content/42696-432087106_small.mp4: 384x640 10 persons, 1 car, 1 handbag, 9.4ms\n",
            "video 1/1 (frame 176/221) /content/42696-432087106_small.mp4: 384x640 10 persons, 1 car, 8.4ms\n",
            "video 1/1 (frame 177/221) /content/42696-432087106_small.mp4: 384x640 10 persons, 1 car, 15.7ms\n",
            "video 1/1 (frame 178/221) /content/42696-432087106_small.mp4: 384x640 10 persons, 8.7ms\n",
            "video 1/1 (frame 179/221) /content/42696-432087106_small.mp4: 384x640 10 persons, 8.9ms\n",
            "video 1/1 (frame 180/221) /content/42696-432087106_small.mp4: 384x640 11 persons, 1 car, 8.4ms\n",
            "video 1/1 (frame 181/221) /content/42696-432087106_small.mp4: 384x640 13 persons, 9.0ms\n",
            "video 1/1 (frame 182/221) /content/42696-432087106_small.mp4: 384x640 12 persons, 8.4ms\n",
            "video 1/1 (frame 183/221) /content/42696-432087106_small.mp4: 384x640 11 persons, 8.2ms\n",
            "video 1/1 (frame 184/221) /content/42696-432087106_small.mp4: 384x640 10 persons, 1 car, 10.9ms\n",
            "video 1/1 (frame 185/221) /content/42696-432087106_small.mp4: 384x640 10 persons, 1 car, 10.0ms\n",
            "video 1/1 (frame 186/221) /content/42696-432087106_small.mp4: 384x640 10 persons, 1 car, 9.2ms\n",
            "video 1/1 (frame 187/221) /content/42696-432087106_small.mp4: 384x640 10 persons, 2 cars, 8.3ms\n",
            "video 1/1 (frame 188/221) /content/42696-432087106_small.mp4: 384x640 10 persons, 1 car, 7.9ms\n",
            "video 1/1 (frame 189/221) /content/42696-432087106_small.mp4: 384x640 10 persons, 1 car, 8.8ms\n",
            "video 1/1 (frame 190/221) /content/42696-432087106_small.mp4: 384x640 10 persons, 1 car, 9.8ms\n",
            "video 1/1 (frame 191/221) /content/42696-432087106_small.mp4: 384x640 10 persons, 2 cars, 7.9ms\n",
            "video 1/1 (frame 192/221) /content/42696-432087106_small.mp4: 384x640 10 persons, 2 cars, 8.4ms\n",
            "video 1/1 (frame 193/221) /content/42696-432087106_small.mp4: 384x640 9 persons, 2 cars, 11.7ms\n",
            "video 1/1 (frame 194/221) /content/42696-432087106_small.mp4: 384x640 10 persons, 2 cars, 8.4ms\n",
            "video 1/1 (frame 195/221) /content/42696-432087106_small.mp4: 384x640 10 persons, 2 cars, 8.0ms\n",
            "video 1/1 (frame 196/221) /content/42696-432087106_small.mp4: 384x640 9 persons, 2 cars, 8.0ms\n",
            "video 1/1 (frame 197/221) /content/42696-432087106_small.mp4: 384x640 9 persons, 2 cars, 8.4ms\n",
            "video 1/1 (frame 198/221) /content/42696-432087106_small.mp4: 384x640 9 persons, 1 car, 10.4ms\n",
            "video 1/1 (frame 199/221) /content/42696-432087106_small.mp4: 384x640 10 persons, 1 car, 8.3ms\n",
            "video 1/1 (frame 200/221) /content/42696-432087106_small.mp4: 384x640 10 persons, 8.3ms\n",
            "video 1/1 (frame 201/221) /content/42696-432087106_small.mp4: 384x640 9 persons, 2 cars, 8.9ms\n",
            "video 1/1 (frame 202/221) /content/42696-432087106_small.mp4: 384x640 9 persons, 3 cars, 11.4ms\n",
            "video 1/1 (frame 203/221) /content/42696-432087106_small.mp4: 384x640 9 persons, 1 car, 8.4ms\n",
            "video 1/1 (frame 204/221) /content/42696-432087106_small.mp4: 384x640 9 persons, 1 car, 8.1ms\n",
            "video 1/1 (frame 205/221) /content/42696-432087106_small.mp4: 384x640 9 persons, 1 car, 8.8ms\n",
            "video 1/1 (frame 206/221) /content/42696-432087106_small.mp4: 384x640 9 persons, 1 car, 8.4ms\n",
            "video 1/1 (frame 207/221) /content/42696-432087106_small.mp4: 384x640 10 persons, 1 car, 8.2ms\n",
            "video 1/1 (frame 208/221) /content/42696-432087106_small.mp4: 384x640 11 persons, 1 car, 11.5ms\n",
            "video 1/1 (frame 209/221) /content/42696-432087106_small.mp4: 384x640 12 persons, 1 car, 9.4ms\n",
            "video 1/1 (frame 210/221) /content/42696-432087106_small.mp4: 384x640 11 persons, 1 car, 9.2ms\n",
            "video 1/1 (frame 211/221) /content/42696-432087106_small.mp4: 384x640 12 persons, 1 car, 8.7ms\n",
            "video 1/1 (frame 212/221) /content/42696-432087106_small.mp4: 384x640 10 persons, 1 car, 8.7ms\n",
            "video 1/1 (frame 213/221) /content/42696-432087106_small.mp4: 384x640 11 persons, 1 car, 10.0ms\n",
            "video 1/1 (frame 214/221) /content/42696-432087106_small.mp4: 384x640 11 persons, 1 car, 12.8ms\n",
            "video 1/1 (frame 215/221) /content/42696-432087106_small.mp4: 384x640 10 persons, 1 car, 8.4ms\n",
            "video 1/1 (frame 216/221) /content/42696-432087106_small.mp4: 384x640 10 persons, 1 car, 8.6ms\n",
            "video 1/1 (frame 217/221) /content/42696-432087106_small.mp4: 384x640 11 persons, 1 car, 8.9ms\n",
            "video 1/1 (frame 218/221) /content/42696-432087106_small.mp4: 384x640 11 persons, 1 car, 17.5ms\n",
            "video 1/1 (frame 219/221) /content/42696-432087106_small.mp4: 384x640 12 persons, 2 cars, 9.1ms\n",
            "video 1/1 (frame 220/221) /content/42696-432087106_small.mp4: 384x640 11 persons, 1 car, 8.2ms\n",
            "video 1/1 (frame 221/221) /content/42696-432087106_small.mp4: 384x640 10 persons, 1 car, 8.2ms\n",
            "Speed: 2.6ms preprocess, 10.4ms inference, 4.4ms postprocess per image at shape (1, 3, 384, 640)\n",
            "Results saved to \u001b[1mruns/detect/predict\u001b[0m\n",
            "💡 Learn more at https://docs.ultralytics.com/modes/predict\n"
          ]
        }
      ],
      "source": [
        "!yolo task=detect mode=predict model=yolo11n.pt source=\"/content/42696-432087106_small.mp4\""
      ]
    },
    {
      "cell_type": "markdown",
      "source": [
        "# 2. Segmentation:"
      ],
      "metadata": {
        "id": "LhfAQY28Y5Dx"
      }
    },
    {
      "cell_type": "code",
      "source": [
        "!yolo task=segment mode=predict model=yolo11n-seg.pt source=\"/content/dogs-7369533_1280.jpg\""
      ],
      "metadata": {
        "colab": {
          "base_uri": "https://localhost:8080/"
        },
        "id": "s9U1fjFLY9qZ",
        "outputId": "dbf51d30-5676-4a4e-93f9-2e3a0dcc35e3"
      },
      "execution_count": 7,
      "outputs": [
        {
          "output_type": "stream",
          "name": "stdout",
          "text": [
            "Downloading https://github.com/ultralytics/assets/releases/download/v8.3.0/yolo11n-seg.pt to 'yolo11n-seg.pt'...\n",
            "100% 5.90M/5.90M [00:00<00:00, 71.1MB/s]\n",
            "Ultralytics 8.3.58 🚀 Python-3.10.12 torch-2.5.1+cu121 CUDA:0 (Tesla T4, 15102MiB)\n",
            "YOLO11n-seg summary (fused): 265 layers, 2,868,664 parameters, 0 gradients, 10.4 GFLOPs\n",
            "\n",
            "image 1/1 /content/dogs-7369533_1280.jpg: 448x640 1 person, 1 boat, 3 dogs, 53.7ms\n",
            "Speed: 11.4ms preprocess, 53.7ms inference, 778.8ms postprocess per image at shape (1, 3, 448, 640)\n",
            "Results saved to \u001b[1mruns/segment/predict\u001b[0m\n",
            "💡 Learn more at https://docs.ultralytics.com/modes/predict\n"
          ]
        }
      ]
    },
    {
      "cell_type": "code",
      "source": [
        "!rm -rf /content/runs"
      ],
      "metadata": {
        "id": "W52rnbHo7G_n"
      },
      "execution_count": 10,
      "outputs": []
    },
    {
      "cell_type": "markdown",
      "source": [
        "## Python Script"
      ],
      "metadata": {
        "id": "dvKMoCCkasmf"
      }
    },
    {
      "cell_type": "code",
      "source": [
        "from ultralytics import YOLO\n",
        "\n",
        "# Load a segmentation model\n",
        "model = YOLO(\"yolov8n-seg.pt\")\n",
        "model.predict(source=\"/content/entrepreneur-593358_640.jpg\")"
      ],
      "metadata": {
        "colab": {
          "base_uri": "https://localhost:8080/"
        },
        "id": "471GwJWFaO85",
        "outputId": "bb6627a7-eefa-4ae0-e7f5-42151c4009ef"
      },
      "execution_count": null,
      "outputs": [
        {
          "output_type": "stream",
          "name": "stdout",
          "text": [
            "\n",
            "image 1/1 /content/entrepreneur-593358_640.jpg: 448x640 1 person, 129.6ms\n",
            "Speed: 3.0ms preprocess, 129.6ms inference, 692.4ms postprocess per image at shape (1, 3, 448, 640)\n"
          ]
        },
        {
          "output_type": "execute_result",
          "data": {
            "text/plain": [
              "[ultralytics.engine.results.Results object with attributes:\n",
              " \n",
              " boxes: ultralytics.engine.results.Boxes object\n",
              " keypoints: None\n",
              " masks: ultralytics.engine.results.Masks object\n",
              " names: {0: 'person', 1: 'bicycle', 2: 'car', 3: 'motorcycle', 4: 'airplane', 5: 'bus', 6: 'train', 7: 'truck', 8: 'boat', 9: 'traffic light', 10: 'fire hydrant', 11: 'stop sign', 12: 'parking meter', 13: 'bench', 14: 'bird', 15: 'cat', 16: 'dog', 17: 'horse', 18: 'sheep', 19: 'cow', 20: 'elephant', 21: 'bear', 22: 'zebra', 23: 'giraffe', 24: 'backpack', 25: 'umbrella', 26: 'handbag', 27: 'tie', 28: 'suitcase', 29: 'frisbee', 30: 'skis', 31: 'snowboard', 32: 'sports ball', 33: 'kite', 34: 'baseball bat', 35: 'baseball glove', 36: 'skateboard', 37: 'surfboard', 38: 'tennis racket', 39: 'bottle', 40: 'wine glass', 41: 'cup', 42: 'fork', 43: 'knife', 44: 'spoon', 45: 'bowl', 46: 'banana', 47: 'apple', 48: 'sandwich', 49: 'orange', 50: 'broccoli', 51: 'carrot', 52: 'hot dog', 53: 'pizza', 54: 'donut', 55: 'cake', 56: 'chair', 57: 'couch', 58: 'potted plant', 59: 'bed', 60: 'dining table', 61: 'toilet', 62: 'tv', 63: 'laptop', 64: 'mouse', 65: 'remote', 66: 'keyboard', 67: 'cell phone', 68: 'microwave', 69: 'oven', 70: 'toaster', 71: 'sink', 72: 'refrigerator', 73: 'book', 74: 'clock', 75: 'vase', 76: 'scissors', 77: 'teddy bear', 78: 'hair drier', 79: 'toothbrush'}\n",
              " obb: None\n",
              " orig_img: array([[[40, 40, 40],\n",
              "         [35, 35, 35],\n",
              "         [31, 31, 31],\n",
              "         ...,\n",
              "         [96, 91, 90],\n",
              "         [94, 88, 89],\n",
              "         [90, 84, 85]],\n",
              " \n",
              "        [[34, 34, 34],\n",
              "         [32, 32, 32],\n",
              "         [30, 30, 30],\n",
              "         ...,\n",
              "         [96, 91, 90],\n",
              "         [94, 88, 89],\n",
              "         [90, 84, 85]],\n",
              " \n",
              "        [[29, 29, 29],\n",
              "         [30, 30, 30],\n",
              "         [30, 30, 30],\n",
              "         ...,\n",
              "         [95, 90, 89],\n",
              "         [93, 87, 88],\n",
              "         [90, 84, 85]],\n",
              " \n",
              "        ...,\n",
              " \n",
              "        [[24, 26, 27],\n",
              "         [25, 27, 28],\n",
              "         [27, 27, 27],\n",
              "         ...,\n",
              "         [64, 60, 59],\n",
              "         [63, 59, 58],\n",
              "         [62, 58, 57]],\n",
              " \n",
              "        [[24, 26, 27],\n",
              "         [25, 27, 28],\n",
              "         [27, 27, 27],\n",
              "         ...,\n",
              "         [64, 60, 59],\n",
              "         [63, 59, 58],\n",
              "         [62, 58, 57]],\n",
              " \n",
              "        [[24, 26, 27],\n",
              "         [25, 27, 28],\n",
              "         [27, 27, 27],\n",
              "         ...,\n",
              "         [64, 60, 59],\n",
              "         [62, 58, 57],\n",
              "         [61, 57, 56]]], dtype=uint8)\n",
              " orig_shape: (424, 640)\n",
              " path: '/content/entrepreneur-593358_640.jpg'\n",
              " probs: None\n",
              " save_dir: 'runs/segment/predict'\n",
              " speed: {'preprocess': 2.9952526092529297, 'inference': 129.5602321624756, 'postprocess': 692.3873424530029}]"
            ]
          },
          "metadata": {},
          "execution_count": 6
        }
      ]
    },
    {
      "cell_type": "markdown",
      "source": [
        "# 3. Classification:"
      ],
      "metadata": {
        "id": "a8ocmWB6cww5"
      }
    },
    {
      "cell_type": "code",
      "source": [
        "!yolo task=classify mode=predict model=yolov8n-cls.pt source=\"/content/dogs-7369533_1280.jpg\""
      ],
      "metadata": {
        "colab": {
          "base_uri": "https://localhost:8080/"
        },
        "id": "zLNSTczyccx6",
        "outputId": "a358a142-4ff6-446f-d2c6-b17fe5008d6b"
      },
      "execution_count": 6,
      "outputs": [
        {
          "output_type": "stream",
          "name": "stdout",
          "text": [
            "Ultralytics 8.3.58 🚀 Python-3.10.12 torch-2.5.1+cu121 CUDA:0 (Tesla T4, 15102MiB)\n",
            "YOLOv8n-cls summary (fused): 73 layers, 2,715,880 parameters, 0 gradients, 4.3 GFLOPs\n",
            "\n",
            "Downloading https://ultralytics.com/assets/Arial.ttf to '/root/.config/Ultralytics/Arial.ttf'...\n",
            "100% 755k/755k [00:00<00:00, 14.5MB/s]\n",
            "image 1/1 /content/dogs-7369533_1280.jpg: 224x224 otter 0.19, cairn 0.15, Norfolk_terrier 0.09, ice_bear 0.08, soft-coated_wheaten_terrier 0.05, 3.1ms\n",
            "Speed: 55.2ms preprocess, 3.1ms inference, 0.1ms postprocess per image at shape (1, 3, 224, 224)\n",
            "Results saved to \u001b[1mruns/classify/predict\u001b[0m\n",
            "💡 Learn more at https://docs.ultralytics.com/modes/predict\n"
          ]
        }
      ]
    },
    {
      "cell_type": "code",
      "source": [],
      "metadata": {
        "id": "f2q6tQPgccvo"
      },
      "execution_count": null,
      "outputs": []
    }
  ]
}